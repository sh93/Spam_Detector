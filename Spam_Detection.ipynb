{
 "cells": [
  {
   "cell_type": "markdown",
   "id": "890c7673-1112-48dc-a9a0-96e76d20bd6f",
   "metadata": {},
   "source": [
    "<h2>Importing Libraries & Dataset</h2>"
   ]
  },
  {
   "cell_type": "code",
   "execution_count": 1,
   "id": "29ecc1a8-0ff8-49e9-8d9d-88b421cf3b2e",
   "metadata": {},
   "outputs": [],
   "source": [
    "import pandas as pd\n",
    "import numpy as np\n",
    "import matplotlib.pyplot as plt\n",
    "import seaborn as sns\n",
    "\n",
    "\n",
    "from sklearn.model_selection import train_test_split, cross_val_score\n",
    "\n",
    "from sklearn.linear_model import LogisticRegression\n",
    "from sklearn.tree import DecisionTreeClassifier\n",
    "from sklearn.svm import SVC\n",
    "from sklearn.neighbors import KNeighborsClassifier\n",
    "from sklearn.naive_bayes import GaussianNB, MultinomialNB\n",
    "from sklearn.ensemble import RandomForestClassifier, GradientBoostingClassifier\n",
    "\n",
    "\n",
    "from imblearn.over_sampling import SMOTE\n",
    "from imblearn.pipeline import Pipeline\n",
    "from sklearn.feature_extraction.text import CountVectorizer, TfidfVectorizer\n",
    "\n",
    "from sklearn.decomposition import TruncatedSVD\n",
    "\n",
    "from sklearn.metrics import (\n",
    "    classification_report,\n",
    "    confusion_matrix,\n",
    "    accuracy_score,\n",
    "    precision_score,\n",
    ")\n",
    "\n",
    "import warnings\n",
    "\n",
    "warnings.filterwarnings(\"ignore\")"
   ]
  },
  {
   "cell_type": "code",
   "execution_count": 2,
   "id": "0b6857dd-df78-44a6-a2b8-4a8f97730b0b",
   "metadata": {},
   "outputs": [
    {
     "data": {
      "text/html": [
       "<div>\n",
       "<style scoped>\n",
       "    .dataframe tbody tr th:only-of-type {\n",
       "        vertical-align: middle;\n",
       "    }\n",
       "\n",
       "    .dataframe tbody tr th {\n",
       "        vertical-align: top;\n",
       "    }\n",
       "\n",
       "    .dataframe thead th {\n",
       "        text-align: right;\n",
       "    }\n",
       "</style>\n",
       "<table border=\"1\" class=\"dataframe\">\n",
       "  <thead>\n",
       "    <tr style=\"text-align: right;\">\n",
       "      <th></th>\n",
       "      <th>v1</th>\n",
       "      <th>v2</th>\n",
       "      <th>Unnamed: 2</th>\n",
       "      <th>Unnamed: 3</th>\n",
       "      <th>Unnamed: 4</th>\n",
       "    </tr>\n",
       "  </thead>\n",
       "  <tbody>\n",
       "    <tr>\n",
       "      <th>0</th>\n",
       "      <td>ham</td>\n",
       "      <td>Go until jurong point, crazy.. Available only ...</td>\n",
       "      <td>NaN</td>\n",
       "      <td>NaN</td>\n",
       "      <td>NaN</td>\n",
       "    </tr>\n",
       "    <tr>\n",
       "      <th>1</th>\n",
       "      <td>ham</td>\n",
       "      <td>Ok lar... Joking wif u oni...</td>\n",
       "      <td>NaN</td>\n",
       "      <td>NaN</td>\n",
       "      <td>NaN</td>\n",
       "    </tr>\n",
       "    <tr>\n",
       "      <th>2</th>\n",
       "      <td>spam</td>\n",
       "      <td>Free entry in 2 a wkly comp to win FA Cup fina...</td>\n",
       "      <td>NaN</td>\n",
       "      <td>NaN</td>\n",
       "      <td>NaN</td>\n",
       "    </tr>\n",
       "    <tr>\n",
       "      <th>3</th>\n",
       "      <td>ham</td>\n",
       "      <td>U dun say so early hor... U c already then say...</td>\n",
       "      <td>NaN</td>\n",
       "      <td>NaN</td>\n",
       "      <td>NaN</td>\n",
       "    </tr>\n",
       "    <tr>\n",
       "      <th>4</th>\n",
       "      <td>ham</td>\n",
       "      <td>Nah I don't think he goes to usf, he lives aro...</td>\n",
       "      <td>NaN</td>\n",
       "      <td>NaN</td>\n",
       "      <td>NaN</td>\n",
       "    </tr>\n",
       "  </tbody>\n",
       "</table>\n",
       "</div>"
      ],
      "text/plain": [
       "     v1                                                 v2 Unnamed: 2  \\\n",
       "0   ham  Go until jurong point, crazy.. Available only ...        NaN   \n",
       "1   ham                      Ok lar... Joking wif u oni...        NaN   \n",
       "2  spam  Free entry in 2 a wkly comp to win FA Cup fina...        NaN   \n",
       "3   ham  U dun say so early hor... U c already then say...        NaN   \n",
       "4   ham  Nah I don't think he goes to usf, he lives aro...        NaN   \n",
       "\n",
       "  Unnamed: 3 Unnamed: 4  \n",
       "0        NaN        NaN  \n",
       "1        NaN        NaN  \n",
       "2        NaN        NaN  \n",
       "3        NaN        NaN  \n",
       "4        NaN        NaN  "
      ]
     },
     "execution_count": 2,
     "metadata": {},
     "output_type": "execute_result"
    }
   ],
   "source": [
    "df = pd.read_csv(\n",
    "    r\"C:/Users/aryan/OneDrive/Documents/Projects/Spam_Detection/spam.csv\",\n",
    "    encoding=\"ISO-8859-1\",\n",
    ")\n",
    "\n",
    "\n",
    "df.head()"
   ]
  },
  {
   "cell_type": "code",
   "execution_count": 3,
   "id": "97d3bf2f-0394-4f92-a44b-74bc42621a78",
   "metadata": {},
   "outputs": [
    {
     "data": {
      "text/html": [
       "<div>\n",
       "<style scoped>\n",
       "    .dataframe tbody tr th:only-of-type {\n",
       "        vertical-align: middle;\n",
       "    }\n",
       "\n",
       "    .dataframe tbody tr th {\n",
       "        vertical-align: top;\n",
       "    }\n",
       "\n",
       "    .dataframe thead th {\n",
       "        text-align: right;\n",
       "    }\n",
       "</style>\n",
       "<table border=\"1\" class=\"dataframe\">\n",
       "  <thead>\n",
       "    <tr style=\"text-align: right;\">\n",
       "      <th></th>\n",
       "      <th>text</th>\n",
       "      <th>label</th>\n",
       "    </tr>\n",
       "  </thead>\n",
       "  <tbody>\n",
       "    <tr>\n",
       "      <th>0</th>\n",
       "      <td>Go until jurong point, crazy.. Available only ...</td>\n",
       "      <td>ham</td>\n",
       "    </tr>\n",
       "    <tr>\n",
       "      <th>1</th>\n",
       "      <td>Ok lar... Joking wif u oni...</td>\n",
       "      <td>ham</td>\n",
       "    </tr>\n",
       "    <tr>\n",
       "      <th>2</th>\n",
       "      <td>Free entry in 2 a wkly comp to win FA Cup fina...</td>\n",
       "      <td>spam</td>\n",
       "    </tr>\n",
       "    <tr>\n",
       "      <th>3</th>\n",
       "      <td>U dun say so early hor... U c already then say...</td>\n",
       "      <td>ham</td>\n",
       "    </tr>\n",
       "    <tr>\n",
       "      <th>4</th>\n",
       "      <td>Nah I don't think he goes to usf, he lives aro...</td>\n",
       "      <td>ham</td>\n",
       "    </tr>\n",
       "  </tbody>\n",
       "</table>\n",
       "</div>"
      ],
      "text/plain": [
       "                                                text label\n",
       "0  Go until jurong point, crazy.. Available only ...   ham\n",
       "1                      Ok lar... Joking wif u oni...   ham\n",
       "2  Free entry in 2 a wkly comp to win FA Cup fina...  spam\n",
       "3  U dun say so early hor... U c already then say...   ham\n",
       "4  Nah I don't think he goes to usf, he lives aro...   ham"
      ]
     },
     "execution_count": 3,
     "metadata": {},
     "output_type": "execute_result"
    }
   ],
   "source": [
    "df.drop(columns=[\"Unnamed: 2\", \"Unnamed: 3\", \"Unnamed: 4\"], inplace=True)\n",
    "df[\"text\"] = df.v2\n",
    "\n",
    "\n",
    "df[\"label\"] = df.v1\n",
    "\n",
    "\n",
    "df.drop(columns=[\"v1\", \"v2\"], inplace=True)\n",
    "\n",
    "\n",
    "df.head()"
   ]
  },
  {
   "cell_type": "markdown",
   "id": "5005b11a-1fa5-42e3-af48-588dcb6e2e21",
   "metadata": {},
   "source": [
    "<h2>EDA</h2>"
   ]
  },
  {
   "cell_type": "markdown",
   "id": "b2e6f755-2671-4546-b9e9-72e5114764fc",
   "metadata": {},
   "source": [
    "<h3>Checking null values</h3>"
   ]
  },
  {
   "cell_type": "code",
   "execution_count": 4,
   "id": "2610802d-f631-4e4c-8fd5-65970434c8cc",
   "metadata": {},
   "outputs": [
    {
     "data": {
      "text/plain": [
       "text     0\n",
       "label    0\n",
       "dtype: int64"
      ]
     },
     "execution_count": 4,
     "metadata": {},
     "output_type": "execute_result"
    }
   ],
   "source": [
    "df.isnull().sum()"
   ]
  },
  {
   "cell_type": "markdown",
   "id": "8b457468-5a68-426c-a856-f10bfe761661",
   "metadata": {},
   "source": [
    "<h3>Dropping null values and rechecking</h3>"
   ]
  },
  {
   "cell_type": "code",
   "execution_count": 5,
   "id": "1d6639ff-2abf-46ad-94c6-a6f1927e8857",
   "metadata": {},
   "outputs": [
    {
     "data": {
      "text/plain": [
       "text     0\n",
       "label    0\n",
       "dtype: int64"
      ]
     },
     "execution_count": 5,
     "metadata": {},
     "output_type": "execute_result"
    }
   ],
   "source": [
    "df.dropna(inplace=True)\n",
    "df.isnull().sum()"
   ]
  },
  {
   "cell_type": "markdown",
   "id": "96d2f746-46b2-4afc-a880-1fc1bcbee3f1",
   "metadata": {},
   "source": [
    "<h3>Checking memory usage of the dataset, types, and total entries</h3>"
   ]
  },
  {
   "cell_type": "code",
   "execution_count": 6,
   "id": "8e4453a4-5df5-41d4-ae94-85c3ef7c1885",
   "metadata": {},
   "outputs": [
    {
     "name": "stdout",
     "output_type": "stream",
     "text": [
      "<class 'pandas.core.frame.DataFrame'>\n",
      "RangeIndex: 5572 entries, 0 to 5571\n",
      "Data columns (total 2 columns):\n",
      " #   Column  Non-Null Count  Dtype \n",
      "---  ------  --------------  ----- \n",
      " 0   text    5572 non-null   object\n",
      " 1   label   5572 non-null   object\n",
      "dtypes: object(2)\n",
      "memory usage: 87.2+ KB\n"
     ]
    }
   ],
   "source": [
    "df.info()"
   ]
  },
  {
   "cell_type": "markdown",
   "id": "210094e8-af15-4e0a-a14a-ef5b8708cc18",
   "metadata": {},
   "source": [
    "<h3>Checking for duplicate values</h3>"
   ]
  },
  {
   "cell_type": "code",
   "execution_count": 7,
   "id": "b526b8f7-f08e-4cfc-a362-e76d11f07f6d",
   "metadata": {},
   "outputs": [
    {
     "data": {
      "text/plain": [
       "403"
      ]
     },
     "execution_count": 7,
     "metadata": {},
     "output_type": "execute_result"
    }
   ],
   "source": [
    "df[\"text\"].duplicated().sum()"
   ]
  },
  {
   "cell_type": "code",
   "execution_count": 8,
   "id": "ac8d3691-561e-4c57-8e1a-3bcc129f915b",
   "metadata": {},
   "outputs": [
    {
     "data": {
      "text/plain": [
       "403"
      ]
     },
     "execution_count": 8,
     "metadata": {},
     "output_type": "execute_result"
    }
   ],
   "source": [
    "df.duplicated().sum()"
   ]
  },
  {
   "cell_type": "code",
   "execution_count": 9,
   "id": "9c56ba87-25d2-4c07-aba8-1a4c8e2442f8",
   "metadata": {},
   "outputs": [
    {
     "data": {
      "text/plain": [
       "0"
      ]
     },
     "execution_count": 9,
     "metadata": {},
     "output_type": "execute_result"
    }
   ],
   "source": [
    "df.drop_duplicates(inplace=True)\n",
    "df.duplicated().sum()"
   ]
  },
  {
   "cell_type": "code",
   "execution_count": 10,
   "id": "ff4d63a2",
   "metadata": {},
   "outputs": [
    {
     "name": "stdout",
     "output_type": "stream",
     "text": [
      "<class 'pandas.core.frame.DataFrame'>\n",
      "Index: 5169 entries, 0 to 5571\n",
      "Data columns (total 2 columns):\n",
      " #   Column  Non-Null Count  Dtype \n",
      "---  ------  --------------  ----- \n",
      " 0   text    5169 non-null   object\n",
      " 1   label   5169 non-null   object\n",
      "dtypes: object(2)\n",
      "memory usage: 121.1+ KB\n"
     ]
    }
   ],
   "source": [
    "df.info()"
   ]
  },
  {
   "cell_type": "markdown",
   "id": "bab6600b-a694-4dd3-abe1-f76f6139d89a",
   "metadata": {},
   "source": [
    "<h3>Checking target value distribution</h3>"
   ]
  },
  {
   "cell_type": "code",
   "execution_count": 11,
   "id": "812b899f",
   "metadata": {},
   "outputs": [],
   "source": [
    "from sklearn.preprocessing import LabelEncoder\n",
    "\n",
    "le = LabelEncoder()\n",
    "df[\"label\"] = le.fit_transform(df[\"label\"])"
   ]
  },
  {
   "cell_type": "code",
   "execution_count": 12,
   "id": "f92e971b-f954-41dd-b50e-afd921bfb826",
   "metadata": {},
   "outputs": [
    {
     "data": {
      "image/png": "[encoded data removed]",
      "text/plain": [
       "<Figure size 640x480 with 1 Axes>"
      ]
     },
     "metadata": {},
     "output_type": "display_data"
    }
   ],
   "source": [
    "plt.title(\"Label Data Distribution\")\n",
    "sns.countplot(x=df[\"label\"])\n",
    "plt.xlabel(\"Ham/Spam\")\n",
    "plt.ylabel(\"Count\")\n",
    "plt.show()"
   ]
  },
  {
   "cell_type": "markdown",
   "id": "1968b1e6-bfb4-42ac-9619-33bddab46781",
   "metadata": {},
   "source": [
    "<h3>Performing nltk</h3>"
   ]
  },
  {
   "cell_type": "code",
   "execution_count": 13,
   "id": "81e8efe7-795c-4908-9089-9f53cb300a5f",
   "metadata": {},
   "outputs": [],
   "source": [
    "import nltk"
   ]
  },
  {
   "cell_type": "code",
   "execution_count": 14,
   "id": "e0ff5f82-2eba-4bc4-99e0-e73fff33b04b",
   "metadata": {},
   "outputs": [
    {
     "name": "stderr",
     "output_type": "stream",
     "text": [
      "[nltk_data] Downloading package punkt_tab to\n",
      "[nltk_data]     C:\\Users\\aryan\\AppData\\Roaming\\nltk_data...\n",
      "[nltk_data]   Package punkt_tab is already up-to-date!\n",
      "[nltk_data] Downloading package stopwords to\n",
      "[nltk_data]     C:\\Users\\aryan\\AppData\\Roaming\\nltk_data...\n",
      "[nltk_data]   Package stopwords is already up-to-date!\n"
     ]
    },
    {
     "data": {
      "text/plain": [
       "True"
      ]
     },
     "execution_count": 14,
     "metadata": {},
     "output_type": "execute_result"
    }
   ],
   "source": [
    "nltk.download(\"punkt_tab\")\n",
    "nltk.download(\"stopwords\")"
   ]
  },
  {
   "cell_type": "code",
   "execution_count": 15,
   "id": "f12a8464-116d-48f3-aea1-19bca633de33",
   "metadata": {},
   "outputs": [
    {
     "data": {
      "text/html": [
       "<div>\n",
       "<style scoped>\n",
       "    .dataframe tbody tr th:only-of-type {\n",
       "        vertical-align: middle;\n",
       "    }\n",
       "\n",
       "    .dataframe tbody tr th {\n",
       "        vertical-align: top;\n",
       "    }\n",
       "\n",
       "    .dataframe thead th {\n",
       "        text-align: right;\n",
       "    }\n",
       "</style>\n",
       "<table border=\"1\" class=\"dataframe\">\n",
       "  <thead>\n",
       "    <tr style=\"text-align: right;\">\n",
       "      <th></th>\n",
       "      <th>text</th>\n",
       "      <th>label</th>\n",
       "      <th>num_character</th>\n",
       "    </tr>\n",
       "  </thead>\n",
       "  <tbody>\n",
       "    <tr>\n",
       "      <th>0</th>\n",
       "      <td>Go until jurong point, crazy.. Available only ...</td>\n",
       "      <td>0</td>\n",
       "      <td>111</td>\n",
       "    </tr>\n",
       "    <tr>\n",
       "      <th>1</th>\n",
       "      <td>Ok lar... Joking wif u oni...</td>\n",
       "      <td>0</td>\n",
       "      <td>29</td>\n",
       "    </tr>\n",
       "  </tbody>\n",
       "</table>\n",
       "</div>"
      ],
      "text/plain": [
       "                                                text  label  num_character\n",
       "0  Go until jurong point, crazy.. Available only ...      0            111\n",
       "1                      Ok lar... Joking wif u oni...      0             29"
      ]
     },
     "execution_count": 15,
     "metadata": {},
     "output_type": "execute_result"
    }
   ],
   "source": [
    "df[\"num_character\"] = df[\"text\"].apply(len)\n",
    "df.head(2)"
   ]
  },
  {
   "cell_type": "code",
   "execution_count": 16,
   "id": "04b9c075-703b-4b71-a1de-55fe07385bdb",
   "metadata": {},
   "outputs": [],
   "source": [
    "df[\"num_word\"] = df[\"text\"].apply(lambda x: len(nltk.word_tokenize(x)))"
   ]
  },
  {
   "cell_type": "code",
   "execution_count": 17,
   "id": "cc475a1b-3da6-46cb-b05e-6c10eb7cb455",
   "metadata": {},
   "outputs": [
    {
     "data": {
      "text/html": [
       "<div>\n",
       "<style scoped>\n",
       "    .dataframe tbody tr th:only-of-type {\n",
       "        vertical-align: middle;\n",
       "    }\n",
       "\n",
       "    .dataframe tbody tr th {\n",
       "        vertical-align: top;\n",
       "    }\n",
       "\n",
       "    .dataframe thead th {\n",
       "        text-align: right;\n",
       "    }\n",
       "</style>\n",
       "<table border=\"1\" class=\"dataframe\">\n",
       "  <thead>\n",
       "    <tr style=\"text-align: right;\">\n",
       "      <th></th>\n",
       "      <th>text</th>\n",
       "      <th>label</th>\n",
       "      <th>num_character</th>\n",
       "      <th>num_word</th>\n",
       "    </tr>\n",
       "  </thead>\n",
       "  <tbody>\n",
       "    <tr>\n",
       "      <th>0</th>\n",
       "      <td>Go until jurong point, crazy.. Available only ...</td>\n",
       "      <td>0</td>\n",
       "      <td>111</td>\n",
       "      <td>24</td>\n",
       "    </tr>\n",
       "    <tr>\n",
       "      <th>1</th>\n",
       "      <td>Ok lar... Joking wif u oni...</td>\n",
       "      <td>0</td>\n",
       "      <td>29</td>\n",
       "      <td>8</td>\n",
       "    </tr>\n",
       "  </tbody>\n",
       "</table>\n",
       "</div>"
      ],
      "text/plain": [
       "                                                text  label  num_character  \\\n",
       "0  Go until jurong point, crazy.. Available only ...      0            111   \n",
       "1                      Ok lar... Joking wif u oni...      0             29   \n",
       "\n",
       "   num_word  \n",
       "0        24  \n",
       "1         8  "
      ]
     },
     "execution_count": 17,
     "metadata": {},
     "output_type": "execute_result"
    }
   ],
   "source": [
    "df.head(2)"
   ]
  },
  {
   "cell_type": "code",
   "execution_count": 18,
   "id": "035af688-fc0e-43ed-958c-de07eb7c4dff",
   "metadata": {},
   "outputs": [
    {
     "data": {
      "text/html": [
       "<div>\n",
       "<style scoped>\n",
       "    .dataframe tbody tr th:only-of-type {\n",
       "        vertical-align: middle;\n",
       "    }\n",
       "\n",
       "    .dataframe tbody tr th {\n",
       "        vertical-align: top;\n",
       "    }\n",
       "\n",
       "    .dataframe thead th {\n",
       "        text-align: right;\n",
       "    }\n",
       "</style>\n",
       "<table border=\"1\" class=\"dataframe\">\n",
       "  <thead>\n",
       "    <tr style=\"text-align: right;\">\n",
       "      <th></th>\n",
       "      <th>text</th>\n",
       "      <th>label</th>\n",
       "      <th>num_character</th>\n",
       "      <th>num_word</th>\n",
       "      <th>num_sentence</th>\n",
       "    </tr>\n",
       "  </thead>\n",
       "  <tbody>\n",
       "    <tr>\n",
       "      <th>0</th>\n",
       "      <td>Go until jurong point, crazy.. Available only ...</td>\n",
       "      <td>0</td>\n",
       "      <td>111</td>\n",
       "      <td>24</td>\n",
       "      <td>2</td>\n",
       "    </tr>\n",
       "    <tr>\n",
       "      <th>1</th>\n",
       "      <td>Ok lar... Joking wif u oni...</td>\n",
       "      <td>0</td>\n",
       "      <td>29</td>\n",
       "      <td>8</td>\n",
       "      <td>2</td>\n",
       "    </tr>\n",
       "  </tbody>\n",
       "</table>\n",
       "</div>"
      ],
      "text/plain": [
       "                                                text  label  num_character  \\\n",
       "0  Go until jurong point, crazy.. Available only ...      0            111   \n",
       "1                      Ok lar... Joking wif u oni...      0             29   \n",
       "\n",
       "   num_word  num_sentence  \n",
       "0        24             2  \n",
       "1         8             2  "
      ]
     },
     "execution_count": 18,
     "metadata": {},
     "output_type": "execute_result"
    }
   ],
   "source": [
    "df[\"num_sentence\"] = df[\"text\"].apply(lambda x: len(nltk.sent_tokenize(x)))\n",
    "df.head(2)"
   ]
  },
  {
   "cell_type": "markdown",
   "id": "c26dd612-5cf0-4467-be00-aae81e10195a",
   "metadata": {},
   "source": [
    "<h3>How many character are used in spam and ham</h3>"
   ]
  },
  {
   "cell_type": "code",
   "execution_count": 19,
   "id": "9c435d86-4496-4206-aea1-262ad89700d8",
   "metadata": {},
   "outputs": [
    {
     "data": {
      "image/png": "[encoded data removed]",
      "text/plain": [
       "<Figure size 1200x600 with 1 Axes>"
      ]
     },
     "metadata": {},
     "output_type": "display_data"
    }
   ],
   "source": [
    "plt.figure(figsize=(12, 6))\n",
    "sns.histplot(data=df, x=df[df[\"label\"] == 0][\"num_character\"])\n",
    "sns.histplot(data=df, x=df[df[\"label\"] == 1][\"num_character\"], color=\"green\")\n",
    "plt.show()"
   ]
  },
  {
   "cell_type": "markdown",
   "id": "17f8c94f-16d6-4aa7-968c-118b34089ec0",
   "metadata": {},
   "source": [
    "<h3>Pairplot</h3>"
   ]
  },
  {
   "cell_type": "code",
   "execution_count": 20,
   "id": "1c4cbdd0-f3ca-4ab2-9a40-c02109e387f5",
   "metadata": {},
   "outputs": [
    {
     "data": {
      "image/png": "[encoded data removed]",
      "text/plain": [
       "<Figure size 808.875x750 with 12 Axes>"
      ]
     },
     "metadata": {},
     "output_type": "display_data"
    }
   ],
   "source": [
    "sns.pairplot(df, hue=\"label\")\n",
    "plt.show()"
   ]
  },
  {
   "cell_type": "markdown",
   "id": "fb9bfc58-7d16-4125-ae25-76bbfb3f63be",
   "metadata": {
    "jp-MarkdownHeadingCollapsed": true
   },
   "source": [
    "<h3>Correlation</h3>"
   ]
  },
  {
   "cell_type": "code",
   "execution_count": 21,
   "id": "695e0148-d6dc-4365-a1be-c488458f79c4",
   "metadata": {},
   "outputs": [
    {
     "data": {
      "image/png": "[encoded data removed]",
      "text/plain": [
       "<Figure size 640x480 with 2 Axes>"
      ]
     },
     "metadata": {},
     "output_type": "display_data"
    }
   ],
   "source": [
    "new_df = df.select_dtypes(exclude=\"object\")\n",
    "sns.heatmap(new_df.corr(), annot=True)\n",
    "plt.show()"
   ]
  },
  {
   "cell_type": "markdown",
   "id": "c29282b4-ac4c-4185-abef-262a2ee749ce",
   "metadata": {},
   "source": [
    "<h2>Data Preprocessing</h2>"
   ]
  },
  {
   "cell_type": "code",
   "execution_count": 22,
   "id": "8c9b64dd-0294-460c-a830-2a3e986a6910",
   "metadata": {},
   "outputs": [],
   "source": [
    "from nltk.stem.porter import PorterStemmer\n",
    "import string\n",
    "from nltk.corpus import stopwords\n",
    "\n",
    "ps = PorterStemmer()\n",
    "\n",
    "\n",
    "def transform_data(text, **args):\n",
    "    text = text.lower()\n",
    "    text = nltk.word_tokenize(text)\n",
    "    y = []\n",
    "    for i in text:\n",
    "        if i.isalnum():\n",
    "            y.append(i)\n",
    "    text = y[:]\n",
    "    y.clear()\n",
    "\n",
    "    for i in text:\n",
    "        if i not in stopwords.words(\"english\") or i not in string.punctuation:\n",
    "            y.append(i)\n",
    "    text = y[:]\n",
    "    y.clear()\n",
    "\n",
    "    for i in text:\n",
    "        y.append(ps.stem(i))\n",
    "\n",
    "    return \" \".join(y)"
   ]
  },
  {
   "cell_type": "code",
   "execution_count": 23,
   "id": "30b96fee-c4fb-4ad8-a768-e1b44dcae3c8",
   "metadata": {},
   "outputs": [
    {
     "data": {
      "text/plain": [
       "'Go until jurong point, crazy.. Available only in bugis n great world la e buffet... Cine there got amore wat...'"
      ]
     },
     "execution_count": 23,
     "metadata": {},
     "output_type": "execute_result"
    }
   ],
   "source": [
    "df[\"text\"][0]"
   ]
  },
  {
   "cell_type": "code",
   "execution_count": 24,
   "id": "e03969b8-a834-45c9-b160-aa95f0d8fe41",
   "metadata": {},
   "outputs": [
    {
     "data": {
      "text/plain": [
       "'date wed number aug number number number number number from chri garrigu cwg date number numberfanumberd deepeddi com messag id number number tmda deepeddi vircio com i can t reproduc thi error for me it is veri repeat like everi time without fail thi is the debug log of the pick happen number number number exec pick inbox list lbrace lbrace subject ftp rbrace rbrace number number sequenc mercuri number number number exec pick inbox list lbrace lbrace subject ftp rbrace rbrace number number sequenc mercuri number number number number hit number number number mark number hit number number number tkerror syntax error in express int note if i run the pick command by hand delta pick inbox list lbrace lbrace subject ftp rbrace rbrace number number sequenc mercuri number hit that s where the number hit come from obvious the version of nmh i m use is delta pick version pick nmh number number number compil on url at sun mar number number number number ict number and the relev part of my delta mhparam pick seq sel list sinc the pick command work the sequenc actual both of them the one that s explicit on the command line from the search popup and the one that come from do get creat kre ps thi is still use the version of the code form a day ago i haven t been abl to reach the cv repositori today local rout issu i think exmh worker mail list exmh worker url url'"
      ]
     },
     "execution_count": 24,
     "metadata": {},
     "output_type": "execute_result"
    }
   ],
   "source": [
    "text = \" date wed NUMBER aug NUMBER NUMBER NUMBER NUMBER NUMBER from chris garrigues cwg dated NUMBER NUMBERfaNUMBERd deepeddy com message id NUMBER NUMBER tmda deepeddy vircio com i can t reproduce this error for me it is very repeatable like every time without fail this is the debug log of the pick happening NUMBER NUMBER NUMBER pick_it exec pick inbox list lbrace lbrace subject ftp rbrace rbrace NUMBER NUMBER sequence mercury NUMBER NUMBER NUMBER exec pick inbox list lbrace lbrace subject ftp rbrace rbrace NUMBER NUMBER sequence mercury NUMBER NUMBER NUMBER ftoc_pickmsgs NUMBER hit NUMBER NUMBER NUMBER marking NUMBER hits NUMBER NUMBER NUMBER tkerror syntax error in expression int note if i run the pick command by hand delta pick inbox list lbrace lbrace subject ftp rbrace rbrace NUMBER NUMBER sequence mercury NUMBER hit that s where the NUMBER hit comes from obviously the version of nmh i m using is delta pick version pick nmh NUMBER NUMBER NUMBER compiled on URL at sun mar NUMBER NUMBER NUMBER NUMBER ict NUMBER and the relevant part of my mh_profile delta mhparam pick seq sel list since the pick command works the sequence actually both of them the one that s explicit on the command line from the search popup and the one that comes from mh_profile do get created kre ps this is still using the version of the code form a day ago i haven t been able to reach the cvs repository today local routing issue i think _______________________________________________ exmh workers mailing list exmh workers URL URL \"\n",
    "transform_data(text)"
   ]
  },
  {
   "cell_type": "markdown",
   "id": "1e17c3a5-c47a-4df1-8888-3bd29316d94d",
   "metadata": {},
   "source": [
    "<h3>Transforming whole text data</h3>"
   ]
  },
  {
   "cell_type": "code",
   "execution_count": 25,
   "id": "3fa31706-3d0e-4fc3-9bb0-a39abadd769d",
   "metadata": {},
   "outputs": [
    {
     "data": {
      "text/html": [
       "<div>\n",
       "<style scoped>\n",
       "    .dataframe tbody tr th:only-of-type {\n",
       "        vertical-align: middle;\n",
       "    }\n",
       "\n",
       "    .dataframe tbody tr th {\n",
       "        vertical-align: top;\n",
       "    }\n",
       "\n",
       "    .dataframe thead th {\n",
       "        text-align: right;\n",
       "    }\n",
       "</style>\n",
       "<table border=\"1\" class=\"dataframe\">\n",
       "  <thead>\n",
       "    <tr style=\"text-align: right;\">\n",
       "      <th></th>\n",
       "      <th>text</th>\n",
       "      <th>label</th>\n",
       "      <th>num_character</th>\n",
       "      <th>num_word</th>\n",
       "      <th>num_sentence</th>\n",
       "      <th>transformed_text</th>\n",
       "    </tr>\n",
       "  </thead>\n",
       "  <tbody>\n",
       "    <tr>\n",
       "      <th>0</th>\n",
       "      <td>Go until jurong point, crazy.. Available only ...</td>\n",
       "      <td>0</td>\n",
       "      <td>111</td>\n",
       "      <td>24</td>\n",
       "      <td>2</td>\n",
       "      <td>go until jurong point crazi avail onli in bugi...</td>\n",
       "    </tr>\n",
       "    <tr>\n",
       "      <th>1</th>\n",
       "      <td>Ok lar... Joking wif u oni...</td>\n",
       "      <td>0</td>\n",
       "      <td>29</td>\n",
       "      <td>8</td>\n",
       "      <td>2</td>\n",
       "      <td>ok lar joke wif u oni</td>\n",
       "    </tr>\n",
       "  </tbody>\n",
       "</table>\n",
       "</div>"
      ],
      "text/plain": [
       "                                                text  label  num_character  \\\n",
       "0  Go until jurong point, crazy.. Available only ...      0            111   \n",
       "1                      Ok lar... Joking wif u oni...      0             29   \n",
       "\n",
       "   num_word  num_sentence                                   transformed_text  \n",
       "0        24             2  go until jurong point crazi avail onli in bugi...  \n",
       "1         8             2                              ok lar joke wif u oni  "
      ]
     },
     "execution_count": 25,
     "metadata": {},
     "output_type": "execute_result"
    }
   ],
   "source": [
    "df[\"transformed_text\"] = df[\"text\"].apply(transform_data)\n",
    "df.head(2)"
   ]
  },
  {
   "cell_type": "markdown",
   "id": "8edb3fa4-d20d-44b9-86af-1a467897a34c",
   "metadata": {},
   "source": [
    "<h2>Train test split</h2>"
   ]
  },
  {
   "cell_type": "code",
   "execution_count": 26,
   "id": "70f0be09-ab9c-4907-b4df-b4846c8d4cb2",
   "metadata": {},
   "outputs": [],
   "source": [
    "Y = df.label\n",
    "X = df.transformed_text\n",
    "\n",
    "\n",
    "X_train, X_test, y_train, y_test = train_test_split(\n",
    "    X, Y, test_size=0.2, random_state=42\n",
    ")"
   ]
  },
  {
   "cell_type": "code",
   "execution_count": 27,
   "id": "18238e5d",
   "metadata": {},
   "outputs": [
    {
     "data": {
      "text/plain": [
       "(4135, 1034, 4135, 1034)"
      ]
     },
     "execution_count": 27,
     "metadata": {},
     "output_type": "execute_result"
    }
   ],
   "source": [
    "len(X_train), len(X_test), len(y_train), len(y_test)"
   ]
  },
  {
   "cell_type": "code",
   "execution_count": 28,
   "id": "8826f91b",
   "metadata": {},
   "outputs": [
    {
     "data": {
      "image/png": "[encoded data removed]",
      "text/plain": [
       "<Figure size 640x480 with 1 Axes>"
      ]
     },
     "metadata": {},
     "output_type": "display_data"
    }
   ],
   "source": [
    "smote = SMOTE(random_state=42)\n",
    "tf = TfidfVectorizer()\n",
    "new_X_train = tf.fit_transform(X_train)\n",
    "_, y_sample = smote.fit_resample(new_X_train, y_train)\n",
    "\n",
    "plt.title(\"New Label Data Distribution\")\n",
    "sns.countplot(x=y_sample)\n",
    "plt.xlabel(\"Ham/Spam\")\n",
    "plt.ylabel(\"Count\")\n",
    "plt.show()"
   ]
  },
  {
   "cell_type": "markdown",
   "id": "9f3498ce-8325-4747-893a-15927b42b193",
   "metadata": {},
   "source": [
    "<h2>Model Comparision</h2>"
   ]
  },
  {
   "cell_type": "code",
   "execution_count": 29,
   "id": "5bb83e98-e01d-4523-a83b-6a42db40494e",
   "metadata": {
    "scrolled": true
   },
   "outputs": [
    {
     "name": "stdout",
     "output_type": "stream",
     "text": [
      "LR\n",
      "Train Accuracy: 96.80773881499395\n",
      "Test Accuracy: 85.78336557059961\n",
      "Model Accuracy: 85.78336557059961\n",
      "              precision    recall  f1-score   support\n",
      "\n",
      "           0       0.98      0.85      0.91       889\n",
      "           1       0.50      0.88      0.63       145\n",
      "\n",
      "    accuracy                           0.86      1034\n",
      "   macro avg       0.74      0.87      0.77      1034\n",
      "weighted avg       0.91      0.86      0.87      1034\n",
      "\n",
      "------------------------------------------------------------\n",
      "SVC\n",
      "Train Accuracy: 95.04232164449819\n",
      "Test Accuracy: 82.30174081237911\n",
      "Model Accuracy: 82.30174081237911\n",
      "              precision    recall  f1-score   support\n",
      "\n",
      "           0       0.94      0.84      0.89       889\n",
      "           1       0.42      0.69      0.52       145\n",
      "\n",
      "    accuracy                           0.82      1034\n",
      "   macro avg       0.68      0.77      0.71      1034\n",
      "weighted avg       0.87      0.82      0.84      1034\n",
      "\n",
      "------------------------------------------------------------\n",
      "DTC\n",
      "Train Accuracy: 99.39540507859735\n",
      "Test Accuracy: 84.13926499032883\n",
      "Model Accuracy: 84.13926499032883\n",
      "              precision    recall  f1-score   support\n",
      "\n",
      "           0       0.96      0.85      0.90       889\n",
      "           1       0.46      0.79      0.58       145\n",
      "\n",
      "    accuracy                           0.84      1034\n",
      "   macro avg       0.71      0.82      0.74      1034\n",
      "weighted avg       0.89      0.84      0.86      1034\n",
      "\n",
      "------------------------------------------------------------\n",
      "GNB\n",
      "Train Accuracy: 97.82345828295043\n",
      "Test Accuracy: 90.0386847195358\n",
      "Model Accuracy: 90.0386847195358\n",
      "              precision    recall  f1-score   support\n",
      "\n",
      "           0       0.98      0.90      0.94       889\n",
      "           1       0.60      0.89      0.71       145\n",
      "\n",
      "    accuracy                           0.90      1034\n",
      "   macro avg       0.79      0.90      0.83      1034\n",
      "weighted avg       0.93      0.90      0.91      1034\n",
      "\n",
      "------------------------------------------------------------\n",
      "MNB\n",
      "Train Accuracy: 98.96009673518742\n",
      "Test Accuracy: 96.61508704061895\n",
      "Model Accuracy: 96.61508704061895\n",
      "              precision    recall  f1-score   support\n",
      "\n",
      "           0       0.99      0.97      0.98       889\n",
      "           1       0.85      0.92      0.88       145\n",
      "\n",
      "    accuracy                           0.97      1034\n",
      "   macro avg       0.92      0.95      0.93      1034\n",
      "weighted avg       0.97      0.97      0.97      1034\n",
      "\n",
      "------------------------------------------------------------\n",
      "KNC\n",
      "Train Accuracy: 50.35066505441355\n",
      "Test Accuracy: 40.232108317214696\n",
      "Model Accuracy: 40.232108317214696\n",
      "              precision    recall  f1-score   support\n",
      "\n",
      "           0       0.99      0.31      0.47       889\n",
      "           1       0.19      0.99      0.32       145\n",
      "\n",
      "    accuracy                           0.40      1034\n",
      "   macro avg       0.59      0.65      0.39      1034\n",
      "weighted avg       0.88      0.40      0.45      1034\n",
      "\n",
      "------------------------------------------------------------\n",
      "RFC\n",
      "Train Accuracy: 99.34703748488512\n",
      "Test Accuracy: 87.04061895551257\n",
      "Model Accuracy: 87.04061895551257\n",
      "              precision    recall  f1-score   support\n",
      "\n",
      "           0       0.97      0.88      0.92       889\n",
      "           1       0.52      0.84      0.65       145\n",
      "\n",
      "    accuracy                           0.87      1034\n",
      "   macro avg       0.75      0.86      0.78      1034\n",
      "weighted avg       0.91      0.87      0.88      1034\n",
      "\n",
      "------------------------------------------------------------\n",
      "GBC\n",
      "Train Accuracy: 74.84885126964933\n",
      "Test Accuracy: 73.11411992263056\n",
      "Model Accuracy: 73.11411992263056\n",
      "              precision    recall  f1-score   support\n",
      "\n",
      "           0       0.98      0.71      0.82       889\n",
      "           1       0.33      0.89      0.48       145\n",
      "\n",
      "    accuracy                           0.73      1034\n",
      "   macro avg       0.65      0.80      0.65      1034\n",
      "weighted avg       0.88      0.73      0.77      1034\n",
      "\n",
      "------------------------------------------------------------\n"
     ]
    }
   ],
   "source": [
    "from sklearn.preprocessing import FunctionTransformer\n",
    "\n",
    "from text_utils import text_cleaner_func\n",
    "\n",
    "\n",
    "text_cleaner_transformer = FunctionTransformer(\n",
    "    func=lambda x: x.apply(text_cleaner_func), validate=False\n",
    ")\n",
    "# validate false to avoid shape check\n",
    "\n",
    "models = {\n",
    "    \"LR\": LogisticRegression(),\n",
    "    \"SVC\": SVC(),\n",
    "    \"DTC\": DecisionTreeClassifier(),\n",
    "    \"GNB\": GaussianNB(),\n",
    "    \"MNB\": MultinomialNB(),\n",
    "    \"KNC\": KNeighborsClassifier(),\n",
    "    \"RFC\": RandomForestClassifier(),\n",
    "    \"GBC\": GradientBoostingClassifier(),\n",
    "}\n",
    "\n",
    "ACC = 0\n",
    "NAME = \"\"\n",
    "precision_list = []\n",
    "accuracy_list = []\n",
    "\n",
    "for name, model in models.items():\n",
    "    print(name)\n",
    "\n",
    "    steps = [\n",
    "        (\"cleaner\", text_cleaner_transformer),\n",
    "        (\"vec\", CountVectorizer(stop_words=\"english\", ngram_range=(1, 2))),\n",
    "    ]\n",
    "\n",
    "    if name in [\"MNB\", \"GNB\", \"KNC\"]:\n",
    "        steps.append(\n",
    "            (\"to_dense\", FunctionTransformer(lambda x: x.toarray(), accept_sparse=True))\n",
    "        )\n",
    "\n",
    "    steps.append((\"smote\", SMOTE(random_state=42)))\n",
    "    steps.append((\"model\", model))\n",
    "\n",
    "    pipeline = Pipeline(steps)\n",
    "\n",
    "    pipeline.fit(X_train, y_train)\n",
    "    y_pred = pipeline.predict(X_test)\n",
    "\n",
    "    acc = accuracy_score(y_test, y_pred) * 100\n",
    "    train_score = pipeline.score(X_train, y_train) * 100\n",
    "    test_score = pipeline.score(X_test, y_test) * 100\n",
    "\n",
    "    print(f\"Train Accuracy: {train_score}\")\n",
    "    print(f\"Test Accuracy: {test_score}\")\n",
    "    print(f\"Model Accuracy: {acc}\")\n",
    "\n",
    "    precision_list.append(precision_score(y_test, y_pred))\n",
    "    accuracy_list.append(acc)\n",
    "\n",
    "    if acc > ACC:\n",
    "        ACC = acc\n",
    "        NAME = name\n",
    "\n",
    "    print(classification_report(y_test, y_pred))\n",
    "    print(\"---\" * 20)"
   ]
  },
  {
   "cell_type": "code",
   "execution_count": 30,
   "id": "5f2307c8-1f48-4ec3-9802-906c7fcbdcae",
   "metadata": {},
   "outputs": [
    {
     "data": {
      "text/html": [
       "<div>\n",
       "<style scoped>\n",
       "    .dataframe tbody tr th:only-of-type {\n",
       "        vertical-align: middle;\n",
       "    }\n",
       "\n",
       "    .dataframe tbody tr th {\n",
       "        vertical-align: top;\n",
       "    }\n",
       "\n",
       "    .dataframe thead th {\n",
       "        text-align: right;\n",
       "    }\n",
       "</style>\n",
       "<table border=\"1\" class=\"dataframe\">\n",
       "  <thead>\n",
       "    <tr style=\"text-align: right;\">\n",
       "      <th></th>\n",
       "      <th>Precision</th>\n",
       "      <th>Accuracy</th>\n",
       "    </tr>\n",
       "    <tr>\n",
       "      <th>Models</th>\n",
       "      <th></th>\n",
       "      <th></th>\n",
       "    </tr>\n",
       "  </thead>\n",
       "  <tbody>\n",
       "    <tr>\n",
       "      <th>MNB</th>\n",
       "      <td>0.848101</td>\n",
       "      <td>96.615087</td>\n",
       "    </tr>\n",
       "    <tr>\n",
       "      <th>GNB</th>\n",
       "      <td>0.597222</td>\n",
       "      <td>90.038685</td>\n",
       "    </tr>\n",
       "    <tr>\n",
       "      <th>RFC</th>\n",
       "      <td>0.523605</td>\n",
       "      <td>87.040619</td>\n",
       "    </tr>\n",
       "    <tr>\n",
       "      <th>LR</th>\n",
       "      <td>0.496094</td>\n",
       "      <td>85.783366</td>\n",
       "    </tr>\n",
       "    <tr>\n",
       "      <th>DTC</th>\n",
       "      <td>0.461538</td>\n",
       "      <td>84.139265</td>\n",
       "    </tr>\n",
       "    <tr>\n",
       "      <th>SVC</th>\n",
       "      <td>0.420168</td>\n",
       "      <td>82.301741</td>\n",
       "    </tr>\n",
       "    <tr>\n",
       "      <th>GBC</th>\n",
       "      <td>0.329923</td>\n",
       "      <td>73.114120</td>\n",
       "    </tr>\n",
       "    <tr>\n",
       "      <th>KNC</th>\n",
       "      <td>0.188406</td>\n",
       "      <td>40.232108</td>\n",
       "    </tr>\n",
       "  </tbody>\n",
       "</table>\n",
       "</div>"
      ],
      "text/plain": [
       "        Precision   Accuracy\n",
       "Models                      \n",
       "MNB      0.848101  96.615087\n",
       "GNB      0.597222  90.038685\n",
       "RFC      0.523605  87.040619\n",
       "LR       0.496094  85.783366\n",
       "DTC      0.461538  84.139265\n",
       "SVC      0.420168  82.301741\n",
       "GBC      0.329923  73.114120\n",
       "KNC      0.188406  40.232108"
      ]
     },
     "execution_count": 30,
     "metadata": {},
     "output_type": "execute_result"
    }
   ],
   "source": [
    "precision_df = pd.DataFrame(data=precision_list, columns=[\"Precision\"])\n",
    "accuracy_df = pd.DataFrame(data=accuracy_list, columns=[\"Accuracy\"])\n",
    "accuracy_precision_df = pd.concat([precision_df, accuracy_df], axis=1)\n",
    "model_name = [x for x in models.keys()]\n",
    "accuracy_precision_df[\"Models\"] = model_name\n",
    "a = accuracy_precision_df.set_index(accuracy_precision_df[\"Models\"])\n",
    "a.drop(columns=[\"Models\"], inplace=True)\n",
    "a.sort_values(by=\"Precision\", ascending=False)"
   ]
  },
  {
   "cell_type": "code",
   "execution_count": 31,
   "id": "e793ba51",
   "metadata": {},
   "outputs": [
    {
     "name": "stdout",
     "output_type": "stream",
     "text": [
      "LR\n",
      "Train Accuracy: 99.56469165659009\n",
      "Test Accuracy: 96.80851063829788\n",
      "Model Accuracy: 96.80851063829788\n",
      "              precision    recall  f1-score   support\n",
      "\n",
      "           0       0.99      0.98      0.98       889\n",
      "           1       0.87      0.91      0.89       145\n",
      "\n",
      "    accuracy                           0.97      1034\n",
      "   macro avg       0.93      0.94      0.94      1034\n",
      "weighted avg       0.97      0.97      0.97      1034\n",
      "\n",
      "------------------------------------------------------------\n",
      "SVC\n",
      "Train Accuracy: 100.0\n",
      "Test Accuracy: 97.87234042553192\n",
      "Model Accuracy: 97.87234042553192\n",
      "              precision    recall  f1-score   support\n",
      "\n",
      "           0       0.98      1.00      0.99       889\n",
      "           1       0.98      0.86      0.92       145\n",
      "\n",
      "    accuracy                           0.98      1034\n",
      "   macro avg       0.98      0.93      0.95      1034\n",
      "weighted avg       0.98      0.98      0.98      1034\n",
      "\n",
      "------------------------------------------------------------\n",
      "DTC\n",
      "Train Accuracy: 100.0\n",
      "Test Accuracy: 94.58413926499033\n",
      "Model Accuracy: 94.58413926499033\n",
      "              precision    recall  f1-score   support\n",
      "\n",
      "           0       0.96      0.98      0.97       889\n",
      "           1       0.83      0.77      0.80       145\n",
      "\n",
      "    accuracy                           0.95      1034\n",
      "   macro avg       0.90      0.87      0.88      1034\n",
      "weighted avg       0.94      0.95      0.94      1034\n",
      "\n",
      "------------------------------------------------------------\n",
      "GNB\n",
      "Train Accuracy: 97.82345828295043\n",
      "Test Accuracy: 89.94197292069632\n",
      "Model Accuracy: 89.94197292069632\n",
      "              precision    recall  f1-score   support\n",
      "\n",
      "           0       0.98      0.90      0.94       889\n",
      "           1       0.60      0.88      0.71       145\n",
      "\n",
      "    accuracy                           0.90      1034\n",
      "   macro avg       0.79      0.89      0.83      1034\n",
      "weighted avg       0.93      0.90      0.91      1034\n",
      "\n",
      "------------------------------------------------------------\n",
      "MNB\n",
      "Train Accuracy: 99.17775090689238\n",
      "Test Accuracy: 95.35783365570599\n",
      "Model Accuracy: 95.35783365570599\n",
      "              precision    recall  f1-score   support\n",
      "\n",
      "           0       0.99      0.96      0.97       889\n",
      "           1       0.78      0.94      0.85       145\n",
      "\n",
      "    accuracy                           0.95      1034\n",
      "   macro avg       0.88      0.95      0.91      1034\n",
      "weighted avg       0.96      0.95      0.96      1034\n",
      "\n",
      "------------------------------------------------------------\n",
      "KNC\n",
      "Train Accuracy: 99.80652962515116\n",
      "Test Accuracy: 93.90715667311412\n",
      "Model Accuracy: 93.90715667311412\n",
      "              precision    recall  f1-score   support\n",
      "\n",
      "           0       0.94      1.00      0.97       889\n",
      "           1       0.98      0.58      0.73       145\n",
      "\n",
      "    accuracy                           0.94      1034\n",
      "   macro avg       0.96      0.79      0.85      1034\n",
      "weighted avg       0.94      0.94      0.93      1034\n",
      "\n",
      "------------------------------------------------------------\n",
      "RFC\n",
      "Train Accuracy: 100.0\n",
      "Test Accuracy: 96.5183752417795\n",
      "Model Accuracy: 96.5183752417795\n",
      "              precision    recall  f1-score   support\n",
      "\n",
      "           0       0.96      1.00      0.98       889\n",
      "           1       1.00      0.75      0.86       145\n",
      "\n",
      "    accuracy                           0.97      1034\n",
      "   macro avg       0.98      0.88      0.92      1034\n",
      "weighted avg       0.97      0.97      0.96      1034\n",
      "\n",
      "------------------------------------------------------------\n",
      "GBC\n",
      "Train Accuracy: 97.00120918984281\n",
      "Test Accuracy: 95.64796905222437\n",
      "Model Accuracy: 95.64796905222437\n",
      "              precision    recall  f1-score   support\n",
      "\n",
      "           0       0.96      0.99      0.98       889\n",
      "           1       0.92      0.75      0.83       145\n",
      "\n",
      "    accuracy                           0.96      1034\n",
      "   macro avg       0.94      0.87      0.90      1034\n",
      "weighted avg       0.96      0.96      0.95      1034\n",
      "\n",
      "------------------------------------------------------------\n"
     ]
    }
   ],
   "source": [
    "from sklearn.preprocessing import FunctionTransformer\n",
    "\n",
    "models = {\n",
    "    \"LR\": LogisticRegression(),\n",
    "    \"SVC\": SVC(),\n",
    "    \"DTC\": DecisionTreeClassifier(),\n",
    "    \"GNB\": GaussianNB(),\n",
    "    \"MNB\": MultinomialNB(),\n",
    "    \"KNC\": KNeighborsClassifier(),\n",
    "    \"RFC\": RandomForestClassifier(),\n",
    "    \"GBC\": GradientBoostingClassifier(),\n",
    "}\n",
    "\n",
    "ACC = 0\n",
    "NAME = \"\"\n",
    "precision_list = []\n",
    "accuracy_list = []\n",
    "\n",
    "for name, model in models.items():\n",
    "    print(name)\n",
    "\n",
    "    steps = [\n",
    "        (\"cleaner\", text_cleaner_transformer),\n",
    "        (\"vec\", TfidfVectorizer(stop_words=\"english\", ngram_range=(1, 2))),\n",
    "    ]\n",
    "\n",
    "    if name in [\"MNB\", \"GNB\", \"KNC\"]:\n",
    "        steps.append(\n",
    "            (\"to_dense\", FunctionTransformer(lambda x: x.toarray(), accept_sparse=True))\n",
    "        )\n",
    "\n",
    "    steps.append((\"smote\", SMOTE(random_state=42)))\n",
    "    steps.append((\"model\", model))\n",
    "\n",
    "    pipeline = Pipeline(steps)\n",
    "\n",
    "    pipeline.fit(X_train, y_train)\n",
    "    y_pred = pipeline.predict(X_test)\n",
    "\n",
    "    acc = accuracy_score(y_test, y_pred) * 100\n",
    "    train_score = pipeline.score(X_train, y_train) * 100\n",
    "    test_score = pipeline.score(X_test, y_test) * 100\n",
    "\n",
    "    print(f\"Train Accuracy: {train_score}\")\n",
    "    print(f\"Test Accuracy: {test_score}\")\n",
    "    print(f\"Model Accuracy: {acc}\")\n",
    "\n",
    "    precision_list.append(precision_score(y_test, y_pred))\n",
    "    accuracy_list.append(acc)\n",
    "\n",
    "    if acc > ACC:\n",
    "        ACC = acc\n",
    "        NAME = name\n",
    "\n",
    "    print(classification_report(y_test, y_pred))\n",
    "    print(\"---\" * 20)"
   ]
  },
  {
   "cell_type": "code",
   "execution_count": 32,
   "id": "206294da",
   "metadata": {},
   "outputs": [
    {
     "data": {
      "text/html": [
       "<div>\n",
       "<style scoped>\n",
       "    .dataframe tbody tr th:only-of-type {\n",
       "        vertical-align: middle;\n",
       "    }\n",
       "\n",
       "    .dataframe tbody tr th {\n",
       "        vertical-align: top;\n",
       "    }\n",
       "\n",
       "    .dataframe thead th {\n",
       "        text-align: right;\n",
       "    }\n",
       "</style>\n",
       "<table border=\"1\" class=\"dataframe\">\n",
       "  <thead>\n",
       "    <tr style=\"text-align: right;\">\n",
       "      <th></th>\n",
       "      <th>Precision</th>\n",
       "      <th>Accuracy</th>\n",
       "      <th>With_TF_Precision</th>\n",
       "      <th>With_TF_Accuracy</th>\n",
       "    </tr>\n",
       "    <tr>\n",
       "      <th>Models</th>\n",
       "      <th></th>\n",
       "      <th></th>\n",
       "      <th></th>\n",
       "      <th></th>\n",
       "    </tr>\n",
       "  </thead>\n",
       "  <tbody>\n",
       "    <tr>\n",
       "      <th>RFC</th>\n",
       "      <td>0.523605</td>\n",
       "      <td>87.040619</td>\n",
       "      <td>1.000000</td>\n",
       "      <td>96.518375</td>\n",
       "    </tr>\n",
       "    <tr>\n",
       "      <th>SVC</th>\n",
       "      <td>0.420168</td>\n",
       "      <td>82.301741</td>\n",
       "      <td>0.984252</td>\n",
       "      <td>97.872340</td>\n",
       "    </tr>\n",
       "    <tr>\n",
       "      <th>KNC</th>\n",
       "      <td>0.188406</td>\n",
       "      <td>40.232108</td>\n",
       "      <td>0.976744</td>\n",
       "      <td>93.907157</td>\n",
       "    </tr>\n",
       "    <tr>\n",
       "      <th>GBC</th>\n",
       "      <td>0.329923</td>\n",
       "      <td>73.114120</td>\n",
       "      <td>0.923729</td>\n",
       "      <td>95.647969</td>\n",
       "    </tr>\n",
       "    <tr>\n",
       "      <th>LR</th>\n",
       "      <td>0.496094</td>\n",
       "      <td>85.783366</td>\n",
       "      <td>0.868421</td>\n",
       "      <td>96.808511</td>\n",
       "    </tr>\n",
       "    <tr>\n",
       "      <th>DTC</th>\n",
       "      <td>0.461538</td>\n",
       "      <td>84.139265</td>\n",
       "      <td>0.834586</td>\n",
       "      <td>94.584139</td>\n",
       "    </tr>\n",
       "    <tr>\n",
       "      <th>MNB</th>\n",
       "      <td>0.848101</td>\n",
       "      <td>96.615087</td>\n",
       "      <td>0.777143</td>\n",
       "      <td>95.357834</td>\n",
       "    </tr>\n",
       "    <tr>\n",
       "      <th>GNB</th>\n",
       "      <td>0.597222</td>\n",
       "      <td>90.038685</td>\n",
       "      <td>0.595349</td>\n",
       "      <td>89.941973</td>\n",
       "    </tr>\n",
       "  </tbody>\n",
       "</table>\n",
       "</div>"
      ],
      "text/plain": [
       "        Precision   Accuracy  With_TF_Precision  With_TF_Accuracy\n",
       "Models                                                           \n",
       "RFC      0.523605  87.040619           1.000000         96.518375\n",
       "SVC      0.420168  82.301741           0.984252         97.872340\n",
       "KNC      0.188406  40.232108           0.976744         93.907157\n",
       "GBC      0.329923  73.114120           0.923729         95.647969\n",
       "LR       0.496094  85.783366           0.868421         96.808511\n",
       "DTC      0.461538  84.139265           0.834586         94.584139\n",
       "MNB      0.848101  96.615087           0.777143         95.357834\n",
       "GNB      0.597222  90.038685           0.595349         89.941973"
      ]
     },
     "execution_count": 32,
     "metadata": {},
     "output_type": "execute_result"
    }
   ],
   "source": [
    "precision_df = pd.DataFrame(data=precision_list, columns=[\"With_TF_Precision\"])\n",
    "accuracy_df = pd.DataFrame(data=accuracy_list, columns=[\"With_TF_Accuracy\"])\n",
    "accuracy_precision_df = pd.concat([precision_df, accuracy_df], axis=1)\n",
    "model_name = [x for x in models.keys()]\n",
    "accuracy_precision_df[\"Models\"] = model_name\n",
    "tf_df = accuracy_precision_df.set_index(accuracy_precision_df[\"Models\"])\n",
    "tf_df.drop(columns=[\"Models\"], inplace=True)\n",
    "final_df = pd.concat([a, tf_df], axis=1)\n",
    "\n",
    "final_df.sort_values(by=\"With_TF_Precision\", ascending=False)"
   ]
  },
  {
   "cell_type": "markdown",
   "id": "32874b3d-3ae5-4f4c-aa74-2d8352090a42",
   "metadata": {
    "jp-MarkdownHeadingCollapsed": true
   },
   "source": [
    "<h2>Model Reliability</h2>"
   ]
  },
  {
   "cell_type": "code",
   "execution_count": 33,
   "id": "ea624102-89de-4a5c-a581-9e15f74ef252",
   "metadata": {},
   "outputs": [
    {
     "ename": "KeyboardInterrupt",
     "evalue": "",
     "output_type": "error",
     "traceback": [
      "\u001b[1;31m---------------------------------------------------------------------------\u001b[0m",
      "\u001b[1;31mKeyboardInterrupt\u001b[0m                         Traceback (most recent call last)",
      "Cell \u001b[1;32mIn[33], line 15\u001b[0m\n\u001b[0;32m     12\u001b[0m y_pred \u001b[38;5;241m=\u001b[39m model\u001b[38;5;241m.\u001b[39mpredict(X_test)\n\u001b[0;32m     14\u001b[0m acc \u001b[38;5;241m=\u001b[39m accuracy_score(y_test, y_pred) \u001b[38;5;241m*\u001b[39m \u001b[38;5;241m100\u001b[39m\n\u001b[1;32m---> 15\u001b[0m train_score \u001b[38;5;241m=\u001b[39m model\u001b[38;5;241m.\u001b[39mscore(X_train, y_train) \u001b[38;5;241m*\u001b[39m \u001b[38;5;241m100\u001b[39m\n\u001b[0;32m     16\u001b[0m test_score \u001b[38;5;241m=\u001b[39m model\u001b[38;5;241m.\u001b[39mscore(X_test, y_test) \u001b[38;5;241m*\u001b[39m \u001b[38;5;241m100\u001b[39m\n\u001b[0;32m     18\u001b[0m \u001b[38;5;28mprint\u001b[39m(\u001b[38;5;124mf\u001b[39m\u001b[38;5;124m\"\u001b[39m\u001b[38;5;124mTrain Accuracy: \u001b[39m\u001b[38;5;132;01m{\u001b[39;00mtrain_score\u001b[38;5;132;01m}\u001b[39;00m\u001b[38;5;124m\"\u001b[39m)\n",
      "File \u001b[1;32mc:\\Users\\aryan\\anaconda3\\Lib\\site-packages\\imblearn\\pipeline.py:920\u001b[0m, in \u001b[0;36mPipeline.score\u001b[1;34m(self, X, y, sample_weight, **params)\u001b[0m\n\u001b[0;32m    918\u001b[0m \u001b[38;5;28;01mif\u001b[39;00m \u001b[38;5;129;01mnot\u001b[39;00m _routing_enabled():\n\u001b[0;32m    919\u001b[0m     \u001b[38;5;28;01mfor\u001b[39;00m _, name, transform \u001b[38;5;129;01min\u001b[39;00m \u001b[38;5;28mself\u001b[39m\u001b[38;5;241m.\u001b[39m_iter(with_final\u001b[38;5;241m=\u001b[39m\u001b[38;5;28;01mFalse\u001b[39;00m):\n\u001b[1;32m--> 920\u001b[0m         Xt \u001b[38;5;241m=\u001b[39m transform\u001b[38;5;241m.\u001b[39mtransform(Xt)\n\u001b[0;32m    921\u001b[0m     score_params \u001b[38;5;241m=\u001b[39m {}\n\u001b[0;32m    922\u001b[0m     \u001b[38;5;28;01mif\u001b[39;00m sample_weight \u001b[38;5;129;01mis\u001b[39;00m \u001b[38;5;129;01mnot\u001b[39;00m \u001b[38;5;28;01mNone\u001b[39;00m:\n",
      "File \u001b[1;32mc:\\Users\\aryan\\anaconda3\\Lib\\site-packages\\sklearn\\utils\\_set_output.py:313\u001b[0m, in \u001b[0;36m_wrap_method_output.<locals>.wrapped\u001b[1;34m(self, X, *args, **kwargs)\u001b[0m\n\u001b[0;32m    311\u001b[0m \u001b[38;5;129m@wraps\u001b[39m(f)\n\u001b[0;32m    312\u001b[0m \u001b[38;5;28;01mdef\u001b[39;00m \u001b[38;5;21mwrapped\u001b[39m(\u001b[38;5;28mself\u001b[39m, X, \u001b[38;5;241m*\u001b[39margs, \u001b[38;5;241m*\u001b[39m\u001b[38;5;241m*\u001b[39mkwargs):\n\u001b[1;32m--> 313\u001b[0m     data_to_wrap \u001b[38;5;241m=\u001b[39m f(\u001b[38;5;28mself\u001b[39m, X, \u001b[38;5;241m*\u001b[39margs, \u001b[38;5;241m*\u001b[39m\u001b[38;5;241m*\u001b[39mkwargs)\n\u001b[0;32m    314\u001b[0m     \u001b[38;5;28;01mif\u001b[39;00m \u001b[38;5;28misinstance\u001b[39m(data_to_wrap, \u001b[38;5;28mtuple\u001b[39m):\n\u001b[0;32m    315\u001b[0m         \u001b[38;5;66;03m# only wrap the first output for cross decomposition\u001b[39;00m\n\u001b[0;32m    316\u001b[0m         return_tuple \u001b[38;5;241m=\u001b[39m (\n\u001b[0;32m    317\u001b[0m             _wrap_data_with_container(method, data_to_wrap[\u001b[38;5;241m0\u001b[39m], X, \u001b[38;5;28mself\u001b[39m),\n\u001b[0;32m    318\u001b[0m             \u001b[38;5;241m*\u001b[39mdata_to_wrap[\u001b[38;5;241m1\u001b[39m:],\n\u001b[0;32m    319\u001b[0m         )\n",
      "File \u001b[1;32mc:\\Users\\aryan\\anaconda3\\Lib\\site-packages\\sklearn\\preprocessing\\_function_transformer.py:252\u001b[0m, in \u001b[0;36mFunctionTransformer.transform\u001b[1;34m(self, X)\u001b[0m\n\u001b[0;32m    238\u001b[0m \u001b[38;5;250m\u001b[39m\u001b[38;5;124;03m\"\"\"Transform X using the forward function.\u001b[39;00m\n\u001b[0;32m    239\u001b[0m \n\u001b[0;32m    240\u001b[0m \u001b[38;5;124;03mParameters\u001b[39;00m\n\u001b[1;32m   (...)\u001b[0m\n\u001b[0;32m    249\u001b[0m \u001b[38;5;124;03m    Transformed input.\u001b[39;00m\n\u001b[0;32m    250\u001b[0m \u001b[38;5;124;03m\"\"\"\u001b[39;00m\n\u001b[0;32m    251\u001b[0m X \u001b[38;5;241m=\u001b[39m \u001b[38;5;28mself\u001b[39m\u001b[38;5;241m.\u001b[39m_check_input(X, reset\u001b[38;5;241m=\u001b[39m\u001b[38;5;28;01mFalse\u001b[39;00m)\n\u001b[1;32m--> 252\u001b[0m out \u001b[38;5;241m=\u001b[39m \u001b[38;5;28mself\u001b[39m\u001b[38;5;241m.\u001b[39m_transform(X, func\u001b[38;5;241m=\u001b[39m\u001b[38;5;28mself\u001b[39m\u001b[38;5;241m.\u001b[39mfunc, kw_args\u001b[38;5;241m=\u001b[39m\u001b[38;5;28mself\u001b[39m\u001b[38;5;241m.\u001b[39mkw_args)\n\u001b[0;32m    253\u001b[0m output_config \u001b[38;5;241m=\u001b[39m _get_output_config(\u001b[38;5;124m\"\u001b[39m\u001b[38;5;124mtransform\u001b[39m\u001b[38;5;124m\"\u001b[39m, \u001b[38;5;28mself\u001b[39m)[\u001b[38;5;124m\"\u001b[39m\u001b[38;5;124mdense\u001b[39m\u001b[38;5;124m\"\u001b[39m]\n\u001b[0;32m    255\u001b[0m \u001b[38;5;28;01mif\u001b[39;00m \u001b[38;5;28mhasattr\u001b[39m(out, \u001b[38;5;124m\"\u001b[39m\u001b[38;5;124mcolumns\u001b[39m\u001b[38;5;124m\"\u001b[39m) \u001b[38;5;129;01mand\u001b[39;00m \u001b[38;5;28mself\u001b[39m\u001b[38;5;241m.\u001b[39mfeature_names_out \u001b[38;5;129;01mis\u001b[39;00m \u001b[38;5;129;01mnot\u001b[39;00m \u001b[38;5;28;01mNone\u001b[39;00m:\n\u001b[0;32m    256\u001b[0m     \u001b[38;5;66;03m# check the consistency between the column provided by `transform` and\u001b[39;00m\n\u001b[0;32m    257\u001b[0m     \u001b[38;5;66;03m# the the column names provided by `get_feature_names_out`.\u001b[39;00m\n",
      "File \u001b[1;32mc:\\Users\\aryan\\anaconda3\\Lib\\site-packages\\sklearn\\preprocessing\\_function_transformer.py:379\u001b[0m, in \u001b[0;36mFunctionTransformer._transform\u001b[1;34m(self, X, func, kw_args)\u001b[0m\n\u001b[0;32m    376\u001b[0m \u001b[38;5;28;01mif\u001b[39;00m func \u001b[38;5;129;01mis\u001b[39;00m \u001b[38;5;28;01mNone\u001b[39;00m:\n\u001b[0;32m    377\u001b[0m     func \u001b[38;5;241m=\u001b[39m _identity\n\u001b[1;32m--> 379\u001b[0m \u001b[38;5;28;01mreturn\u001b[39;00m func(X, \u001b[38;5;241m*\u001b[39m\u001b[38;5;241m*\u001b[39m(kw_args \u001b[38;5;28;01mif\u001b[39;00m kw_args \u001b[38;5;28;01melse\u001b[39;00m {}))\n",
      "Cell \u001b[1;32mIn[29], line 7\u001b[0m, in \u001b[0;36m<lambda>\u001b[1;34m(x)\u001b[0m\n\u001b[0;32m      1\u001b[0m \u001b[38;5;28;01mfrom\u001b[39;00m \u001b[38;5;21;01msklearn\u001b[39;00m\u001b[38;5;21;01m.\u001b[39;00m\u001b[38;5;21;01mpreprocessing\u001b[39;00m \u001b[38;5;28;01mimport\u001b[39;00m FunctionTransformer\n\u001b[0;32m      3\u001b[0m \u001b[38;5;28;01mfrom\u001b[39;00m \u001b[38;5;21;01mtext_utils\u001b[39;00m \u001b[38;5;28;01mimport\u001b[39;00m text_cleaner_func\n\u001b[0;32m      6\u001b[0m text_cleaner_transformer \u001b[38;5;241m=\u001b[39m FunctionTransformer(\n\u001b[1;32m----> 7\u001b[0m     func\u001b[38;5;241m=\u001b[39m\u001b[38;5;28;01mlambda\u001b[39;00m x: x\u001b[38;5;241m.\u001b[39mapply(text_cleaner_func), validate\u001b[38;5;241m=\u001b[39m\u001b[38;5;28;01mFalse\u001b[39;00m\n\u001b[0;32m      8\u001b[0m )\n\u001b[0;32m      9\u001b[0m \u001b[38;5;66;03m# validate false to avoid shape check\u001b[39;00m\n\u001b[0;32m     11\u001b[0m models \u001b[38;5;241m=\u001b[39m {\n\u001b[0;32m     12\u001b[0m     \u001b[38;5;124m\"\u001b[39m\u001b[38;5;124mLR\u001b[39m\u001b[38;5;124m\"\u001b[39m: LogisticRegression(),\n\u001b[0;32m     13\u001b[0m     \u001b[38;5;124m\"\u001b[39m\u001b[38;5;124mSVC\u001b[39m\u001b[38;5;124m\"\u001b[39m: SVC(),\n\u001b[1;32m   (...)\u001b[0m\n\u001b[0;32m     19\u001b[0m     \u001b[38;5;124m\"\u001b[39m\u001b[38;5;124mGBC\u001b[39m\u001b[38;5;124m\"\u001b[39m: GradientBoostingClassifier(),\n\u001b[0;32m     20\u001b[0m }\n",
      "File \u001b[1;32mc:\\Users\\aryan\\anaconda3\\Lib\\site-packages\\pandas\\core\\series.py:4924\u001b[0m, in \u001b[0;36mSeries.apply\u001b[1;34m(self, func, convert_dtype, args, by_row, **kwargs)\u001b[0m\n\u001b[0;32m   4789\u001b[0m \u001b[38;5;28;01mdef\u001b[39;00m \u001b[38;5;21mapply\u001b[39m(\n\u001b[0;32m   4790\u001b[0m     \u001b[38;5;28mself\u001b[39m,\n\u001b[0;32m   4791\u001b[0m     func: AggFuncType,\n\u001b[1;32m   (...)\u001b[0m\n\u001b[0;32m   4796\u001b[0m     \u001b[38;5;241m*\u001b[39m\u001b[38;5;241m*\u001b[39mkwargs,\n\u001b[0;32m   4797\u001b[0m ) \u001b[38;5;241m-\u001b[39m\u001b[38;5;241m>\u001b[39m DataFrame \u001b[38;5;241m|\u001b[39m Series:\n\u001b[0;32m   4798\u001b[0m \u001b[38;5;250m    \u001b[39m\u001b[38;5;124;03m\"\"\"\u001b[39;00m\n\u001b[0;32m   4799\u001b[0m \u001b[38;5;124;03m    Invoke function on values of Series.\u001b[39;00m\n\u001b[0;32m   4800\u001b[0m \n\u001b[1;32m   (...)\u001b[0m\n\u001b[0;32m   4915\u001b[0m \u001b[38;5;124;03m    dtype: float64\u001b[39;00m\n\u001b[0;32m   4916\u001b[0m \u001b[38;5;124;03m    \"\"\"\u001b[39;00m\n\u001b[0;32m   4917\u001b[0m     \u001b[38;5;28;01mreturn\u001b[39;00m SeriesApply(\n\u001b[0;32m   4918\u001b[0m         \u001b[38;5;28mself\u001b[39m,\n\u001b[0;32m   4919\u001b[0m         func,\n\u001b[0;32m   4920\u001b[0m         convert_dtype\u001b[38;5;241m=\u001b[39mconvert_dtype,\n\u001b[0;32m   4921\u001b[0m         by_row\u001b[38;5;241m=\u001b[39mby_row,\n\u001b[0;32m   4922\u001b[0m         args\u001b[38;5;241m=\u001b[39margs,\n\u001b[0;32m   4923\u001b[0m         kwargs\u001b[38;5;241m=\u001b[39mkwargs,\n\u001b[1;32m-> 4924\u001b[0m     )\u001b[38;5;241m.\u001b[39mapply()\n",
      "File \u001b[1;32mc:\\Users\\aryan\\anaconda3\\Lib\\site-packages\\pandas\\core\\apply.py:1427\u001b[0m, in \u001b[0;36mSeriesApply.apply\u001b[1;34m(self)\u001b[0m\n\u001b[0;32m   1424\u001b[0m     \u001b[38;5;28;01mreturn\u001b[39;00m \u001b[38;5;28mself\u001b[39m\u001b[38;5;241m.\u001b[39mapply_compat()\n\u001b[0;32m   1426\u001b[0m \u001b[38;5;66;03m# self.func is Callable\u001b[39;00m\n\u001b[1;32m-> 1427\u001b[0m \u001b[38;5;28;01mreturn\u001b[39;00m \u001b[38;5;28mself\u001b[39m\u001b[38;5;241m.\u001b[39mapply_standard()\n",
      "File \u001b[1;32mc:\\Users\\aryan\\anaconda3\\Lib\\site-packages\\pandas\\core\\apply.py:1507\u001b[0m, in \u001b[0;36mSeriesApply.apply_standard\u001b[1;34m(self)\u001b[0m\n\u001b[0;32m   1501\u001b[0m \u001b[38;5;66;03m# row-wise access\u001b[39;00m\n\u001b[0;32m   1502\u001b[0m \u001b[38;5;66;03m# apply doesn't have a `na_action` keyword and for backward compat reasons\u001b[39;00m\n\u001b[0;32m   1503\u001b[0m \u001b[38;5;66;03m# we need to give `na_action=\"ignore\"` for categorical data.\u001b[39;00m\n\u001b[0;32m   1504\u001b[0m \u001b[38;5;66;03m# TODO: remove the `na_action=\"ignore\"` when that default has been changed in\u001b[39;00m\n\u001b[0;32m   1505\u001b[0m \u001b[38;5;66;03m#  Categorical (GH51645).\u001b[39;00m\n\u001b[0;32m   1506\u001b[0m action \u001b[38;5;241m=\u001b[39m \u001b[38;5;124m\"\u001b[39m\u001b[38;5;124mignore\u001b[39m\u001b[38;5;124m\"\u001b[39m \u001b[38;5;28;01mif\u001b[39;00m \u001b[38;5;28misinstance\u001b[39m(obj\u001b[38;5;241m.\u001b[39mdtype, CategoricalDtype) \u001b[38;5;28;01melse\u001b[39;00m \u001b[38;5;28;01mNone\u001b[39;00m\n\u001b[1;32m-> 1507\u001b[0m mapped \u001b[38;5;241m=\u001b[39m obj\u001b[38;5;241m.\u001b[39m_map_values(\n\u001b[0;32m   1508\u001b[0m     mapper\u001b[38;5;241m=\u001b[39mcurried, na_action\u001b[38;5;241m=\u001b[39maction, convert\u001b[38;5;241m=\u001b[39m\u001b[38;5;28mself\u001b[39m\u001b[38;5;241m.\u001b[39mconvert_dtype\n\u001b[0;32m   1509\u001b[0m )\n\u001b[0;32m   1511\u001b[0m \u001b[38;5;28;01mif\u001b[39;00m \u001b[38;5;28mlen\u001b[39m(mapped) \u001b[38;5;129;01mand\u001b[39;00m \u001b[38;5;28misinstance\u001b[39m(mapped[\u001b[38;5;241m0\u001b[39m], ABCSeries):\n\u001b[0;32m   1512\u001b[0m     \u001b[38;5;66;03m# GH#43986 Need to do list(mapped) in order to get treated as nested\u001b[39;00m\n\u001b[0;32m   1513\u001b[0m     \u001b[38;5;66;03m#  See also GH#25959 regarding EA support\u001b[39;00m\n\u001b[0;32m   1514\u001b[0m     \u001b[38;5;28;01mreturn\u001b[39;00m obj\u001b[38;5;241m.\u001b[39m_constructor_expanddim(\u001b[38;5;28mlist\u001b[39m(mapped), index\u001b[38;5;241m=\u001b[39mobj\u001b[38;5;241m.\u001b[39mindex)\n",
      "File \u001b[1;32mc:\\Users\\aryan\\anaconda3\\Lib\\site-packages\\pandas\\core\\base.py:921\u001b[0m, in \u001b[0;36mIndexOpsMixin._map_values\u001b[1;34m(self, mapper, na_action, convert)\u001b[0m\n\u001b[0;32m    918\u001b[0m \u001b[38;5;28;01mif\u001b[39;00m \u001b[38;5;28misinstance\u001b[39m(arr, ExtensionArray):\n\u001b[0;32m    919\u001b[0m     \u001b[38;5;28;01mreturn\u001b[39;00m arr\u001b[38;5;241m.\u001b[39mmap(mapper, na_action\u001b[38;5;241m=\u001b[39mna_action)\n\u001b[1;32m--> 921\u001b[0m \u001b[38;5;28;01mreturn\u001b[39;00m algorithms\u001b[38;5;241m.\u001b[39mmap_array(arr, mapper, na_action\u001b[38;5;241m=\u001b[39mna_action, convert\u001b[38;5;241m=\u001b[39mconvert)\n",
      "File \u001b[1;32mc:\\Users\\aryan\\anaconda3\\Lib\\site-packages\\pandas\\core\\algorithms.py:1743\u001b[0m, in \u001b[0;36mmap_array\u001b[1;34m(arr, mapper, na_action, convert)\u001b[0m\n\u001b[0;32m   1741\u001b[0m values \u001b[38;5;241m=\u001b[39m arr\u001b[38;5;241m.\u001b[39mastype(\u001b[38;5;28mobject\u001b[39m, copy\u001b[38;5;241m=\u001b[39m\u001b[38;5;28;01mFalse\u001b[39;00m)\n\u001b[0;32m   1742\u001b[0m \u001b[38;5;28;01mif\u001b[39;00m na_action \u001b[38;5;129;01mis\u001b[39;00m \u001b[38;5;28;01mNone\u001b[39;00m:\n\u001b[1;32m-> 1743\u001b[0m     \u001b[38;5;28;01mreturn\u001b[39;00m lib\u001b[38;5;241m.\u001b[39mmap_infer(values, mapper, convert\u001b[38;5;241m=\u001b[39mconvert)\n\u001b[0;32m   1744\u001b[0m \u001b[38;5;28;01melse\u001b[39;00m:\n\u001b[0;32m   1745\u001b[0m     \u001b[38;5;28;01mreturn\u001b[39;00m lib\u001b[38;5;241m.\u001b[39mmap_infer_mask(\n\u001b[0;32m   1746\u001b[0m         values, mapper, mask\u001b[38;5;241m=\u001b[39misna(values)\u001b[38;5;241m.\u001b[39mview(np\u001b[38;5;241m.\u001b[39muint8), convert\u001b[38;5;241m=\u001b[39mconvert\n\u001b[0;32m   1747\u001b[0m     )\n",
      "File \u001b[1;32mlib.pyx:2972\u001b[0m, in \u001b[0;36mpandas._libs.lib.map_infer\u001b[1;34m()\u001b[0m\n",
      "File \u001b[1;32mc:\\Users\\aryan\\OneDrive\\Documents\\Projects\\Spam_Detection\\text_utils.py:33\u001b[0m, in \u001b[0;36mtext_cleaner_func\u001b[1;34m(text)\u001b[0m\n\u001b[0;32m     28\u001b[0m words \u001b[38;5;241m=\u001b[39m word_tokenize(text)\n\u001b[0;32m     29\u001b[0m words \u001b[38;5;241m=\u001b[39m [word \u001b[38;5;28;01mfor\u001b[39;00m word \u001b[38;5;129;01min\u001b[39;00m words \u001b[38;5;28;01mif\u001b[39;00m word\u001b[38;5;241m.\u001b[39misalnum()]\n\u001b[0;32m     30\u001b[0m words \u001b[38;5;241m=\u001b[39m [\n\u001b[0;32m     31\u001b[0m     word\n\u001b[0;32m     32\u001b[0m     \u001b[38;5;28;01mfor\u001b[39;00m word \u001b[38;5;129;01min\u001b[39;00m words\n\u001b[1;32m---> 33\u001b[0m     \u001b[38;5;28;01mif\u001b[39;00m word \u001b[38;5;129;01mnot\u001b[39;00m \u001b[38;5;129;01min\u001b[39;00m stopwords\u001b[38;5;241m.\u001b[39mwords(\u001b[38;5;124m\"\u001b[39m\u001b[38;5;124menglish\u001b[39m\u001b[38;5;124m\"\u001b[39m) \u001b[38;5;129;01mand\u001b[39;00m word \u001b[38;5;129;01mnot\u001b[39;00m \u001b[38;5;129;01min\u001b[39;00m string\u001b[38;5;241m.\u001b[39mpunctuation\n\u001b[0;32m     34\u001b[0m ]\n\u001b[0;32m     35\u001b[0m words \u001b[38;5;241m=\u001b[39m [ps\u001b[38;5;241m.\u001b[39mstem(word) \u001b[38;5;28;01mfor\u001b[39;00m word \u001b[38;5;129;01min\u001b[39;00m words]\n\u001b[0;32m     36\u001b[0m \u001b[38;5;28;01mreturn\u001b[39;00m \u001b[38;5;124m\"\u001b[39m\u001b[38;5;124m \u001b[39m\u001b[38;5;124m\"\u001b[39m\u001b[38;5;241m.\u001b[39mjoin(words)\n",
      "File \u001b[1;32mc:\\Users\\aryan\\anaconda3\\Lib\\site-packages\\nltk\\corpus\\reader\\wordlist.py:21\u001b[0m, in \u001b[0;36mWordListCorpusReader.words\u001b[1;34m(self, fileids, ignore_lines_startswith)\u001b[0m\n\u001b[0;32m     18\u001b[0m \u001b[38;5;28;01mdef\u001b[39;00m \u001b[38;5;21mwords\u001b[39m(\u001b[38;5;28mself\u001b[39m, fileids\u001b[38;5;241m=\u001b[39m\u001b[38;5;28;01mNone\u001b[39;00m, ignore_lines_startswith\u001b[38;5;241m=\u001b[39m\u001b[38;5;124m\"\u001b[39m\u001b[38;5;130;01m\\n\u001b[39;00m\u001b[38;5;124m\"\u001b[39m):\n\u001b[0;32m     19\u001b[0m     \u001b[38;5;28;01mreturn\u001b[39;00m [\n\u001b[0;32m     20\u001b[0m         line\n\u001b[1;32m---> 21\u001b[0m         \u001b[38;5;28;01mfor\u001b[39;00m line \u001b[38;5;129;01min\u001b[39;00m line_tokenize(\u001b[38;5;28mself\u001b[39m\u001b[38;5;241m.\u001b[39mraw(fileids))\n\u001b[0;32m     22\u001b[0m         \u001b[38;5;28;01mif\u001b[39;00m \u001b[38;5;129;01mnot\u001b[39;00m line\u001b[38;5;241m.\u001b[39mstartswith(ignore_lines_startswith)\n\u001b[0;32m     23\u001b[0m     ]\n",
      "File \u001b[1;32mc:\\Users\\aryan\\anaconda3\\Lib\\site-packages\\nltk\\corpus\\reader\\api.py:218\u001b[0m, in \u001b[0;36mCorpusReader.raw\u001b[1;34m(self, fileids)\u001b[0m\n\u001b[0;32m    216\u001b[0m contents \u001b[38;5;241m=\u001b[39m []\n\u001b[0;32m    217\u001b[0m \u001b[38;5;28;01mfor\u001b[39;00m f \u001b[38;5;129;01min\u001b[39;00m fileids:\n\u001b[1;32m--> 218\u001b[0m     \u001b[38;5;28;01mwith\u001b[39;00m \u001b[38;5;28mself\u001b[39m\u001b[38;5;241m.\u001b[39mopen(f) \u001b[38;5;28;01mas\u001b[39;00m fp:\n\u001b[0;32m    219\u001b[0m         contents\u001b[38;5;241m.\u001b[39mappend(fp\u001b[38;5;241m.\u001b[39mread())\n\u001b[0;32m    220\u001b[0m \u001b[38;5;28;01mreturn\u001b[39;00m concat(contents)\n",
      "File \u001b[1;32mc:\\Users\\aryan\\anaconda3\\Lib\\site-packages\\nltk\\corpus\\reader\\api.py:231\u001b[0m, in \u001b[0;36mCorpusReader.open\u001b[1;34m(self, file)\u001b[0m\n\u001b[0;32m    223\u001b[0m \u001b[38;5;250m\u001b[39m\u001b[38;5;124;03m\"\"\"\u001b[39;00m\n\u001b[0;32m    224\u001b[0m \u001b[38;5;124;03mReturn an open stream that can be used to read the given file.\u001b[39;00m\n\u001b[0;32m    225\u001b[0m \u001b[38;5;124;03mIf the file's encoding is not None, then the stream will\u001b[39;00m\n\u001b[1;32m   (...)\u001b[0m\n\u001b[0;32m    228\u001b[0m \u001b[38;5;124;03m:param file: The file identifier of the file to read.\u001b[39;00m\n\u001b[0;32m    229\u001b[0m \u001b[38;5;124;03m\"\"\"\u001b[39;00m\n\u001b[0;32m    230\u001b[0m encoding \u001b[38;5;241m=\u001b[39m \u001b[38;5;28mself\u001b[39m\u001b[38;5;241m.\u001b[39mencoding(file)\n\u001b[1;32m--> 231\u001b[0m stream \u001b[38;5;241m=\u001b[39m \u001b[38;5;28mself\u001b[39m\u001b[38;5;241m.\u001b[39m_root\u001b[38;5;241m.\u001b[39mjoin(file)\u001b[38;5;241m.\u001b[39mopen(encoding)\n\u001b[0;32m    232\u001b[0m \u001b[38;5;28;01mreturn\u001b[39;00m stream\n",
      "File \u001b[1;32mc:\\Users\\aryan\\anaconda3\\Lib\\site-packages\\nltk\\data.py:333\u001b[0m, in \u001b[0;36mFileSystemPathPointer.join\u001b[1;34m(self, fileid)\u001b[0m\n\u001b[0;32m    331\u001b[0m \u001b[38;5;28;01mdef\u001b[39;00m \u001b[38;5;21mjoin\u001b[39m(\u001b[38;5;28mself\u001b[39m, fileid):\n\u001b[0;32m    332\u001b[0m     _path \u001b[38;5;241m=\u001b[39m os\u001b[38;5;241m.\u001b[39mpath\u001b[38;5;241m.\u001b[39mjoin(\u001b[38;5;28mself\u001b[39m\u001b[38;5;241m.\u001b[39m_path, fileid)\n\u001b[1;32m--> 333\u001b[0m     \u001b[38;5;28;01mreturn\u001b[39;00m FileSystemPathPointer(_path)\n",
      "File \u001b[1;32mc:\\Users\\aryan\\anaconda3\\Lib\\site-packages\\nltk\\data.py:310\u001b[0m, in \u001b[0;36mFileSystemPathPointer.__init__\u001b[1;34m(self, _path)\u001b[0m\n\u001b[0;32m    303\u001b[0m \u001b[38;5;250m\u001b[39m\u001b[38;5;124;03m\"\"\"\u001b[39;00m\n\u001b[0;32m    304\u001b[0m \u001b[38;5;124;03mCreate a new path pointer for the given absolute path.\u001b[39;00m\n\u001b[0;32m    305\u001b[0m \n\u001b[0;32m    306\u001b[0m \u001b[38;5;124;03m:raise IOError: If the given path does not exist.\u001b[39;00m\n\u001b[0;32m    307\u001b[0m \u001b[38;5;124;03m\"\"\"\u001b[39;00m\n\u001b[0;32m    309\u001b[0m _path \u001b[38;5;241m=\u001b[39m os\u001b[38;5;241m.\u001b[39mpath\u001b[38;5;241m.\u001b[39mabspath(_path)\n\u001b[1;32m--> 310\u001b[0m \u001b[38;5;28;01mif\u001b[39;00m \u001b[38;5;129;01mnot\u001b[39;00m os\u001b[38;5;241m.\u001b[39mpath\u001b[38;5;241m.\u001b[39mexists(_path):\n\u001b[0;32m    311\u001b[0m     \u001b[38;5;28;01mraise\u001b[39;00m \u001b[38;5;167;01mOSError\u001b[39;00m(\u001b[38;5;124m\"\u001b[39m\u001b[38;5;124mNo such file or directory: \u001b[39m\u001b[38;5;132;01m%r\u001b[39;00m\u001b[38;5;124m\"\u001b[39m \u001b[38;5;241m%\u001b[39m _path)\n\u001b[0;32m    312\u001b[0m \u001b[38;5;28mself\u001b[39m\u001b[38;5;241m.\u001b[39m_path \u001b[38;5;241m=\u001b[39m _path\n",
      "\u001b[1;31mKeyboardInterrupt\u001b[0m: "
     ]
    }
   ],
   "source": [
    "steps = [\n",
    "    (\"cleaner\", text_cleaner_transformer),\n",
    "    (\"vec\", TfidfVectorizer(stop_words=\"english\", ngram_range=(1, 2))),\n",
    "    (\"smote\", SMOTE(random_state=42)),\n",
    "    (\"model\", SVC()),\n",
    "]\n",
    "\n",
    "model = Pipeline(steps)\n",
    "\n",
    "\n",
    "model.fit(X_train, y_train)\n",
    "y_pred = model.predict(X_test)\n",
    "\n",
    "acc = accuracy_score(y_test, y_pred) * 100\n",
    "train_score = model.score(X_train, y_train) * 100\n",
    "test_score = model.score(X_test, y_test) * 100\n",
    "\n",
    "print(f\"Train Accuracy: {train_score}\")\n",
    "print(f\"Test Accuracy: {test_score}\")\n",
    "print(f\"Model Accuracy: {acc}\")\n",
    "\n",
    "\n",
    "cv = cross_val_score(model, X_train, y_train, cv=5)\n",
    "\n",
    "\n",
    "print(\"CV:\", cv)\n",
    "\n",
    "\n",
    "print(\"CV Avg:\", cv.mean() * 100)"
   ]
  },
  {
   "cell_type": "markdown",
   "id": "3a04a51b-7e2d-48e5-ba8c-06d06f21eb22",
   "metadata": {},
   "source": [
    "<h2>Model Hyperparameters</h2>"
   ]
  },
  {
   "cell_type": "code",
   "execution_count": null,
   "id": "049aced7-5180-40c8-afb0-85b884c6bdec",
   "metadata": {},
   "outputs": [],
   "source": [
    "from sklearn.model_selection import RandomizedSearchCV\n",
    "\n",
    "param = {\n",
    "    \"model__C\": [0.1, 1, 10, 100],\n",
    "    \"model__kernel\": [\"linear\", \"rbf\", \"poly\", \"sigmoid\"],\n",
    "    \"model__gamma\": [\"scale\", \"auto\"],\n",
    "    \"model__degree\": [2, 3, 4],\n",
    "}\n",
    "\n",
    "\n",
    "randcv = RandomizedSearchCV(model, param, cv=5, n_jobs=1)\n",
    "\n",
    "\n",
    "randcv.fit(X_train, y_train)"
   ]
  },
  {
   "cell_type": "code",
   "execution_count": null,
   "id": "5668554e-469e-4b38-83ff-a496bb5cfc6b",
   "metadata": {},
   "outputs": [],
   "source": [
    "randcv.best_score_ * 100"
   ]
  },
  {
   "cell_type": "code",
   "execution_count": null,
   "id": "6982cb4b",
   "metadata": {},
   "outputs": [],
   "source": [
    "y_pred = randcv.predict(X_test)\n",
    "precision_score(y_test, y_pred) * 100, accuracy_score(y_test, y_pred) * 100"
   ]
  },
  {
   "cell_type": "code",
   "execution_count": null,
   "id": "a664fa49",
   "metadata": {},
   "outputs": [],
   "source": [
    "steps = [\n",
    "    (\"cleaner\", text_cleaner_transformer),\n",
    "    (\"vec\", TfidfVectorizer()),\n",
    "    (\"smote\", SMOTE(random_state=42)),\n",
    "    (\n",
    "        \"model\",\n",
    "        SVC(C=10, degree=4, gamma=\"auto\", kernel=\"linear\"),\n",
    "    ),\n",
    "]\n",
    "\n",
    "model = Pipeline(steps)\n",
    "\n",
    "\n",
    "model.fit(X_train, y_train)"
   ]
  },
  {
   "cell_type": "code",
   "execution_count": null,
   "id": "4ee250eb",
   "metadata": {},
   "outputs": [],
   "source": [
    "print(\"Train Accuracy:\", model.score(X_train, y_train) * 100)\n",
    "\n",
    "print(\"Test Accuracy:\", model.score(X_test, y_test) * 100)\n",
    "\n",
    "print(\"Model Accuracy:\", accuracy_score(y_test, y_pred) * 100)\n",
    "\n",
    "print(\"Precision:\", precision_score(y_test, y_pred) * 100)"
   ]
  },
  {
   "cell_type": "markdown",
   "id": "afb6463f-7f5b-446e-afcc-941b2aeeae0c",
   "metadata": {},
   "source": [
    "<h2>Test Model Manually</h2>"
   ]
  },
  {
   "cell_type": "code",
   "execution_count": null,
   "id": "293be339-734d-48bc-8d99-ca8760729b5f",
   "metadata": {},
   "outputs": [],
   "source": [
    "model.fit(X_train, y_train)"
   ]
  },
  {
   "cell_type": "markdown",
   "id": "0cd40b70",
   "metadata": {},
   "source": [
    "<h3>Metrics</h3>"
   ]
  },
  {
   "cell_type": "code",
   "execution_count": null,
   "id": "1bb32899",
   "metadata": {},
   "outputs": [],
   "source": [
    "y_pred = model.predict(X_test)"
   ]
  },
  {
   "cell_type": "code",
   "execution_count": null,
   "id": "a1669799",
   "metadata": {},
   "outputs": [],
   "source": [
    "cm = confusion_matrix(y_test, y_pred)\n",
    "\n",
    "sns.heatmap(cm, annot=True, fmt=\"d\")\n",
    "plt.title(\"Confusion Matrix\")\n",
    "plt.xlabel(\"Prediction\")\n",
    "plt.ylabel(\"Truth\")\n",
    "plt.show()"
   ]
  },
  {
   "cell_type": "code",
   "execution_count": null,
   "id": "c377eb8b",
   "metadata": {},
   "outputs": [],
   "source": [
    "print(classification_report(y_test, y_pred))"
   ]
  },
  {
   "cell_type": "code",
   "execution_count": null,
   "id": "0539df84-67ac-4b4a-80e7-5c7f23282703",
   "metadata": {},
   "outputs": [],
   "source": [
    "text = [\"Claim your free Bitcoin now before the offer ends!\"]\n",
    "\n",
    "test = [\n",
    "    \"Congratulations! You've won a $1000 Walmart gift card. Click here to claim: bit.ly/spam123\",\n",
    "    \"URGENT: Your account has been suspended. Login now to verify: fakebank.xyz/login\",\n",
    "    \"You have been selected for a free cruise to the Bahamas! Call now!\",\n",
    "    \"Earn $5000 a week from home! No experience needed. Sign up today!\",\n",
    "    \"You’ve been chosen to receive a free iPhone. Just pay $1 shipping!\",\n",
    "    \"Act Now! Limited time offer for 0% interest loans!\",\n",
    "    \"Click this link to get 100% off on your next order!\",\n",
    "    \"Work from home and become rich overnight. Click here!\",\n",
    "    \"Your Netflix subscription is expiring. Renew now at netfix-pay.com\",\n",
    "    \"Claim your free Bitcoin now before the offer ends!\",\n",
    "]\n",
    "\n",
    "ans = []\n",
    "for i in test:\n",
    "\n",
    "    ans.append(model.predict(pd.Series([i]))[0])\n",
    "ans"
   ]
  },
  {
   "cell_type": "code",
   "execution_count": null,
   "id": "e3f66182",
   "metadata": {},
   "outputs": [],
   "source": [
    "test = [\n",
    "    \"Hey, are we still meeting for lunch today?\",\n",
    "    \"Don't forget to bring your ID for the exam tomorrow.\",\n",
    "    \"Mom said dinner is at 8. Don’t be late!\",\n",
    "    \"The project deadline has been moved to next Friday.\",\n",
    "    \"Here’s the file you asked for, let me know if any changes are needed.\",\n",
    "    \"Can you call me when you're free?\",\n",
    "    \"I'll be out of town this weekend, want to catch up before that?\",\n",
    "    \"Meeting rescheduled to 3 PM. Please confirm your availability.\",\n",
    "    \"Happy Birthday! Hope you have a great day 🎉\",\n",
    "    \"Attached is the invoice for this month’s services.\",\n",
    "]\n",
    "\n",
    "ans = []\n",
    "for i in test:\n",
    "\n",
    "    ans.append(model.predict(pd.Series([i]))[0])\n",
    "ans"
   ]
  },
  {
   "cell_type": "markdown",
   "id": "8aafd394-d8ce-48cd-b33f-436a1a452651",
   "metadata": {},
   "source": [
    "<h2>Model Export</h2>"
   ]
  },
  {
   "cell_type": "code",
   "execution_count": null,
   "id": "31572ff1-8dc8-4b46-932c-8e6ef1fc6d7b",
   "metadata": {},
   "outputs": [],
   "source": [
    "import pickle\n",
    "\n",
    "model_name = \"RFCModel.pkl\"\n",
    "\n",
    "with open(model_name, \"wb\") as f:\n",
    "    pickle.dump(model, f)"
   ]
  },
  {
   "cell_type": "code",
   "execution_count": null,
   "id": "80c2488b",
   "metadata": {},
   "outputs": [],
   "source": []
  }
 ],
 "metadata": {
  "kernelspec": {
   "display_name": "base",
   "language": "python",
   "name": "python3"
  },
  "language_info": {
   "codemirror_mode": {
    "name": "ipython",
    "version": 3
   },
   "file_extension": ".py",
   "mimetype": "text/x-python",
   "name": "python",
   "nbconvert_exporter": "python",
   "pygments_lexer": "ipython3",
   "version": "3.12.7"
  }
 },
 "nbformat": 4,
 "nbformat_minor": 5
}
